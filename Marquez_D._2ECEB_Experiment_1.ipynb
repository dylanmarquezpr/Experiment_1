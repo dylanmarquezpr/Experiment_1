{
 "cells": [
  {
   "cell_type": "markdown",
   "id": "b7277c7a-71b4-43ac-b60b-2af588cdecd0",
   "metadata": {},
   "source": [
    "# Experiment 1 - Introduction to Python Programming "
   ]
  },
  {
   "cell_type": "markdown",
   "id": "54d239de-be1b-4c51-8815-dea791d6c06f",
   "metadata": {},
   "source": [
    "#### Name : Dylan Rvy A. Marquez \n",
    "#### Section : 2ECE-B \n",
    "#### Date : 08/25/2025"
   ]
  },
  {
   "cell_type": "markdown",
   "id": "ace2997a-c4e1-43c1-aed6-7cf1e9734993",
   "metadata": {},
   "source": [
    "## Alphabet Soup Problem \n",
    "##### Create a function that takes a string and returns a string with its letters in alphabetical order."
   ]
  },
  {
   "cell_type": "code",
   "execution_count": 6,
   "id": "ae2e7ed0-4d65-4312-994f-86ddec8642ec",
   "metadata": {},
   "outputs": [
    {
     "name": "stdin",
     "output_type": "stream",
     "text": [
      "Type a word:  SirNikkoLobos \n"
     ]
    },
    {
     "name": "stdout",
     "output_type": "stream",
     "text": [
      " LNSbiikkooors\n"
     ]
    }
   ],
   "source": [
    "def alphabet_soup(word): #DEFINE DUNCTION\n",
    "    return '' .join(sorted(word)) #SORT LETTERS\n",
    "\n",
    "\n",
    "word = input(\"Type a word: \") #USER INPUT \n",
    "print(alphabet_soup(word))\n"
   ]
  },
  {
   "cell_type": "markdown",
   "id": "b9a11e41-85b6-45c7-98c3-9da02b7b3985",
   "metadata": {},
   "source": [
    "## Emoticon Problem \n",
    "##### Create a function that changes specific words into emoticons. Given a sentenceas a string, replace the words smile, grin, sad and mad with their corresponding emoticon."
   ]
  },
  {
   "cell_type": "code",
   "execution_count": 8,
   "id": "4ed46151-9e54-4aeb-ac3e-e5ce0d0bdfbd",
   "metadata": {},
   "outputs": [
    {
     "name": "stdout",
     "output_type": "stream",
     "text": [
      "Make me :)!\n",
      "I am >:(.\n",
      "She gave me a :D.\n",
      "Engineering makes me :((.\n"
     ]
    }
   ],
   "source": [
    "def emote(sentence):\n",
    "    emoticons = {      #DICTIONARY MAPPING FROM KEYWORD\n",
    "        \"smile\": \":)\",\n",
    "        \"grin\": \":D\",\n",
    "        \"sad\": \":((\",\n",
    "        \"mad\": \">:(\"\n",
    "    }\n",
    "    for word, emo in emoticons.items():\n",
    "        sentence = sentence.replace(word, emo) # REPLACE EVERY OCCURENCE OF 'WORD' WITH ITS EMOTICON\n",
    "    return sentence\n",
    "\n",
    "print(emote(\"Make me smile!\"))\n",
    "print(emote(\"I am mad.\"))\n",
    "print(emote(\"She gave me a grin.\"))\n",
    "print(emote(\"Engineering makes me sad.\"))\n"
   ]
  },
  {
   "cell_type": "markdown",
   "id": "9f6c8a48-f4e8-43ff-bfe5-315b4576577e",
   "metadata": {},
   "source": [
    "## Unpacking List Problem  \n",
    "##### Unpack the list writeyourcodehere into three variables, being first, middle, and last, with middle being everything in between the first and last element. Then print all three variables."
   ]
  },
  {
   "cell_type": "code",
   "execution_count": 9,
   "id": "2db85503-13af-4f61-8bef-e611fc887608",
   "metadata": {},
   "outputs": [
    {
     "name": "stdout",
     "output_type": "stream",
     "text": [
      "first: 1\n",
      "middle: [2, 3, 4, 5]\n",
      "last: 6\n"
     ]
    }
   ],
   "source": [
    "lst = [1, 2, 3, 4, 5, 6] #CREATE LIST\n",
    "\n",
    "first = lst.pop(0)   #REMOVE AND RETURN FIRST ELEMENT\n",
    "last = lst.pop(-1)   #REMOVE AND RETURN LAST ELEMENT\n",
    "middle = lst         #REMAINING LIST\n",
    "\n",
    "print(\"first:\", first)\n",
    "print(\"middle:\", middle)\n",
    "print(\"last:\", last)"
   ]
  }
 ],
 "metadata": {
  "kernelspec": {
   "display_name": "Python [conda env:base] *",
   "language": "python",
   "name": "conda-base-py"
  },
  "language_info": {
   "codemirror_mode": {
    "name": "ipython",
    "version": 3
   },
   "file_extension": ".py",
   "mimetype": "text/x-python",
   "name": "python",
   "nbconvert_exporter": "python",
   "pygments_lexer": "ipython3",
   "version": "3.13.5"
  }
 },
 "nbformat": 4,
 "nbformat_minor": 5
}
